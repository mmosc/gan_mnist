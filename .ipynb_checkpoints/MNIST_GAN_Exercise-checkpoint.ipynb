{
 "cells": [
  {
   "cell_type": "markdown",
   "metadata": {},
   "source": [
    "# Generative Adversarial Network\n",
    "\n",
    "In this notebook, we'll be building a generative adversarial network (GAN) trained on the MNIST dataset. From this, we'll be able to generate new handwritten digits!\n",
    "\n",
    "GANs were [first reported on](https://arxiv.org/abs/1406.2661) in 2014 from Ian Goodfellow and others in Yoshua Bengio's lab. Since then, GANs have exploded in popularity. Here are a few examples to check out:\n",
    "\n",
    "* [Pix2Pix](https://affinelayer.com/pixsrv/) \n",
    "* [CycleGAN & Pix2Pix in PyTorch, Jun-Yan Zhu](https://github.com/junyanz/pytorch-CycleGAN-and-pix2pix)\n",
    "* [A list of generative models](https://github.com/wiseodd/generative-models)\n",
    "\n",
    "The idea behind GANs is that you have two networks, a generator $G$ and a discriminator $D$, competing against each other. The generator makes \"fake\" data to pass to the discriminator. The discriminator also sees real training data and predicts if the data it's received is real or fake. \n",
    "> * The generator is trained to fool the discriminator, it wants to output data that looks _as close as possible_ to real, training data. \n",
    "* The discriminator is a classifier that is trained to figure out which data is real and which is fake. \n",
    "\n",
    "What ends up happening is that the generator learns to make data that is indistinguishable from real data to the discriminator.\n",
    "\n",
    "<img src='assets/gan_pipeline.png' width=70% />\n",
    "\n",
    "The general structure of a GAN is shown in the diagram above, using MNIST images as data. The latent sample is a random vector that the generator uses to construct its fake images. This is often called a **latent vector** and that vector space is called **latent space**. As the generator trains, it figures out how to map latent vectors to recognizable images that can fool the discriminator.\n",
    "\n",
    "If you're interested in generating only new images, you can throw out the discriminator after training. In this notebook, I'll show you how to define and train these adversarial networks in PyTorch and generate new images!"
   ]
  },
  {
   "cell_type": "code",
   "execution_count": 1,
   "metadata": {},
   "outputs": [],
   "source": [
    "%matplotlib inline\n",
    "\n",
    "import numpy as np\n",
    "import torch\n",
    "import matplotlib.pyplot as plt"
   ]
  },
  {
   "cell_type": "code",
   "execution_count": 3,
   "metadata": {},
   "outputs": [
    {
     "name": "stdout",
     "output_type": "stream",
     "text": [
      "Downloading http://yann.lecun.com/exdb/mnist/train-images-idx3-ubyte.gz to data/MNIST/raw/train-images-idx3-ubyte.gz\n"
     ]
    },
    {
     "name": "stderr",
     "output_type": "stream",
     "text": [
      "100.1%"
     ]
    },
    {
     "name": "stdout",
     "output_type": "stream",
     "text": [
      "Extracting data/MNIST/raw/train-images-idx3-ubyte.gz to data/MNIST/raw\n",
      "Downloading http://yann.lecun.com/exdb/mnist/train-labels-idx1-ubyte.gz to data/MNIST/raw/train-labels-idx1-ubyte.gz\n"
     ]
    },
    {
     "name": "stderr",
     "output_type": "stream",
     "text": [
      "113.5%"
     ]
    },
    {
     "name": "stdout",
     "output_type": "stream",
     "text": [
      "Extracting data/MNIST/raw/train-labels-idx1-ubyte.gz to data/MNIST/raw\n",
      "Downloading http://yann.lecun.com/exdb/mnist/t10k-images-idx3-ubyte.gz to data/MNIST/raw/t10k-images-idx3-ubyte.gz\n"
     ]
    },
    {
     "name": "stderr",
     "output_type": "stream",
     "text": [
      "100.4%"
     ]
    },
    {
     "name": "stdout",
     "output_type": "stream",
     "text": [
      "Extracting data/MNIST/raw/t10k-images-idx3-ubyte.gz to data/MNIST/raw\n",
      "Downloading http://yann.lecun.com/exdb/mnist/t10k-labels-idx1-ubyte.gz to data/MNIST/raw/t10k-labels-idx1-ubyte.gz\n"
     ]
    },
    {
     "name": "stderr",
     "output_type": "stream",
     "text": [
      "180.4%"
     ]
    },
    {
     "name": "stdout",
     "output_type": "stream",
     "text": [
      "Extracting data/MNIST/raw/t10k-labels-idx1-ubyte.gz to data/MNIST/raw\n",
      "Processing...\n",
      "Done!\n"
     ]
    }
   ],
   "source": [
    "from torchvision import datasets\n",
    "import torchvision.transforms as transforms\n",
    "\n",
    "# number of subprocesses to use for data loading\n",
    "num_workers = 0\n",
    "# how many samples per batch to load\n",
    "batch_size = 64\n",
    "\n",
    "# convert data to torch.FloatTensor\n",
    "transform = transforms.ToTensor()\n",
    "\n",
    "# get the training datasets\n",
    "train_data = datasets.MNIST(root='data', train=True,\n",
    "                                   download=True, transform=transform)\n",
    "\n",
    "# prepare data loader\n",
    "train_loader = torch.utils.data.DataLoader(train_data, batch_size=batch_size,\n",
    "                                           num_workers=num_workers)"
   ]
  },
  {
   "cell_type": "markdown",
   "metadata": {},
   "source": [
    "### Visualize the data"
   ]
  },
  {
   "cell_type": "code",
   "execution_count": 4,
   "metadata": {},
   "outputs": [
    {
     "data": {
      "text/plain": [
       "<matplotlib.image.AxesImage at 0x7fc363377050>"
      ]
     },
     "execution_count": 4,
     "metadata": {},
     "output_type": "execute_result"
    },
    {
     "data": {
      "image/png": "[encoded data removed]",
      "text/plain": [
       "<Figure size 216x216 with 1 Axes>"
      ]
     },
     "metadata": {
      "needs_background": "light"
     },
     "output_type": "display_data"
    }
   ],
   "source": [
    "# obtain one batch of training images\n",
    "dataiter = iter(train_loader)\n",
    "images, labels = dataiter.next()\n",
    "images = images.numpy()\n",
    "\n",
    "# get one image from the batch\n",
    "img = np.squeeze(images[0])\n",
    "\n",
    "fig = plt.figure(figsize = (3,3)) \n",
    "ax = fig.add_subplot(111)\n",
    "ax.imshow(img, cmap='gray')"
   ]
  },
  {
   "cell_type": "markdown",
   "metadata": {},
   "source": [
    "---\n",
    "# Define the Model\n",
    "\n",
    "A GAN is comprised of two adversarial networks, a discriminator and a generator."
   ]
  },
  {
   "cell_type": "markdown",
   "metadata": {},
   "source": [
    "## Discriminator\n",
    "\n",
    "The discriminator network is going to be a pretty typical linear classifier. To make this network a universal function approximator, we'll need at least one hidden layer, and these hidden layers should have one key attribute:\n",
    "> All hidden layers will have a [Leaky ReLu](https://pytorch.org/docs/stable/nn.html#torch.nn.LeakyReLU) activation function applied to their outputs.\n",
    "\n",
    "<img src='assets/gan_network.png' width=70% />\n",
    "\n",
    "#### Leaky ReLu\n",
    "\n",
    "We should use a leaky ReLU to allow gradients to flow backwards through the layer unimpeded. A leaky ReLU is like a normal ReLU, except that there is a small non-zero output for negative input values.\n",
    "\n",
    "<img src='assets/leaky_relu.png' width=40% />\n",
    "\n",
    "#### Sigmoid Output\n",
    "\n",
    "We'll also take the approach of using a more numerically stable loss function on the outputs. Recall that we want the discriminator to output a value 0-1 indicating whether an image is _real or fake_. \n",
    "> We will ultimately use [BCEWithLogitsLoss](https://pytorch.org/docs/stable/nn.html#bcewithlogitsloss), which combines a `sigmoid` activation function **and** and binary cross entropy loss in one function. \n",
    "\n",
    "So, our final output layer should not have any activation function applied to it."
   ]
  },
  {
   "cell_type": "code",
   "execution_count": 5,
   "metadata": {},
   "outputs": [],
   "source": [
    "import torch.nn as nn\n",
    "import torch.nn.functional as F\n",
    "\n",
    "class Discriminator(nn.Module):\n",
    "\n",
    "    def __init__(self, input_size, hidden_dim, output_size):\n",
    "        super(Discriminator, self).__init__()\n",
    "        \n",
    "        # define all layers\n",
    "        self.fc1 = nn.Linear(input_size, hidden_dim)\n",
    "        self.lrelu = nn.LeakyReLU(0.2)\n",
    "        self.fc2 = nn.Linear(hidden_dim, output_size)\n",
    "        \n",
    "    def forward(self, x):\n",
    "        # flatten image\n",
    "        x = x.view(-1,28*28)\n",
    "        # pass x through all layers\n",
    "        x = self.fc1(x)\n",
    "        x = self.lrelu(x)\n",
    "        x = self.fc2(x)\n",
    "        # apply leaky relu activation to all hidden layers\n",
    "\n",
    "        return x\n"
   ]
  },
  {
   "cell_type": "markdown",
   "metadata": {},
   "source": [
    "## Generator\n",
    "\n",
    "The generator network will be almost exactly the same as the discriminator network, except that we're applying a [tanh activation function](https://pytorch.org/docs/stable/nn.html#tanh) to our output layer.\n",
    "\n",
    "#### tanh Output\n",
    "The generator has been found to perform the best with $tanh$ for the generator output, which scales the output to be between -1 and 1, instead of 0 and 1. \n",
    "\n",
    "<img src='assets/tanh_fn.png' width=40% />\n",
    "\n",
    "Recall that we also want these outputs to be comparable to the *real* input pixel values, which are read in as normalized values between 0 and 1. \n",
    "> So, we'll also have to **scale our real input images to have pixel values between -1 and 1** when we train the discriminator. \n",
    "\n",
    "I'll do this in the training loop, later on."
   ]
  },
  {
   "cell_type": "code",
   "execution_count": 9,
   "metadata": {},
   "outputs": [],
   "source": [
    "class Generator(nn.Module):\n",
    "\n",
    "    def __init__(self, input_size, hidden_dim, output_size):\n",
    "        super(Generator, self).__init__()        \n",
    "        # define all layers\n",
    "        self.fc1 = nn.Linear(input_size, hidden_dim*4)\n",
    "        self.lrelu = nn.LeakyReLU(0.2)\n",
    "        self.fc2 = nn.Linear(hidden_dim*4,hidden_dim*2)\n",
    "        self.fc3 = nn.Linear(hidden_dim*2,hidden_dim)\n",
    "        self.fc4 = nn.Linear(hidden_dim, output_size)\n",
    "        self.tanh = nn.Tanh()\n",
    "        self.dropout = nn.Dropout(0.3)\n",
    "        \n",
    "    def forward(self, x):\n",
    "        # flatten image\n",
    "        #x = x.view(-1,28*28)\n",
    "        # pass x through all layers\n",
    "        x = \n",
    "        x = self.lrelu(x)\n",
    "        x = self.dropout(x)\n",
    "        x = self.fc2(x)\n",
    "        x = self.lrelu(x)\n",
    "        x = self.dropout(x)\n",
    "        x = self.fc3(x)\n",
    "        x = self.lrelu(x)\n",
    "        x = self.dropout(x)\n",
    "        x = self.fc3(x)\n",
    "\n",
    "        x = self.tanh(x)\n",
    "        # apply leaky relu activation to all hidden layers\n",
    "        \n",
    "        return x\n"
   ]
  },
  {
   "cell_type": "markdown",
   "metadata": {},
   "source": [
    "## Model hyperparameters"
   ]
  },
  {
   "cell_type": "code",
   "execution_count": 7,
   "metadata": {},
   "outputs": [],
   "source": [
    "# Discriminator hyperparams\n",
    "\n",
    "# Size of input image to discriminator (28*28)\n",
    "input_size = 28*28\n",
    "# Size of discriminator output (real or fake)\n",
    "d_output_size = 1\n",
    "# Size of *last* hidden layer in the discriminator\n",
    "d_hidden_size = 128\n",
    "\n",
    "# Generator hyperparams\n",
    "\n",
    "# Size of latent vector to give to generator\n",
    "z_size = 100\n",
    "# Size of discriminator output (generated image)\n",
    "g_output_size = 28*28\n",
    "# Size of *first* hidden layer in the generator\n",
    "g_hidden_size = 128"
   ]
  },
  {
   "cell_type": "markdown",
   "metadata": {},
   "source": [
    "## Build complete network\n",
    "\n",
    "Now we're instantiating the discriminator and generator from the classes defined above. Make sure you've passed in the correct input arguments."
   ]
  },
  {
   "cell_type": "code",
   "execution_count": 10,
   "metadata": {},
   "outputs": [
    {
     "name": "stdout",
     "output_type": "stream",
     "text": [
      "Discriminator(\n",
      "  (fc1): Linear(in_features=784, out_features=128, bias=True)\n",
      "  (lrelu): LeakyReLU(negative_slope=0.2)\n",
      "  (fc2): Linear(in_features=128, out_features=1, bias=True)\n",
      ")\n",
      "\n",
      "Generator(\n",
      "  (fc1): Linear(in_features=100, out_features=128, bias=True)\n",
      "  (lrelu): LeakyReLU(negative_slope=0.2)\n",
      "  (fc2): Linear(in_features=128, out_features=784, bias=True)\n",
      "  (tanh): Tanh()\n",
      ")\n"
     ]
    }
   ],
   "source": [
    "# instantiate discriminator and generator\n",
    "D = Discriminator(input_size, d_hidden_size, d_output_size)\n",
    "G = Generator(z_size, g_hidden_size, g_output_size)\n",
    "\n",
    "# check that they are as you expect\n",
    "print(D)\n",
    "print()\n",
    "print(G)"
   ]
  },
  {
   "cell_type": "markdown",
   "metadata": {},
   "source": [
    "---\n",
    "## Discriminator and Generator Losses\n",
    "\n",
    "Now we need to calculate the losses. \n",
    "\n",
    "### Discriminator Losses\n",
    "\n",
    "> * For the discriminator, the total loss is the sum of the losses for real and fake images, `d_loss = d_real_loss + d_fake_loss`. \n",
    "* Remember that we want the discriminator to output 1 for real images and 0 for fake images, so we need to set up the losses to reflect that.\n",
    "\n",
    "<img src='assets/gan_pipeline.png' width=70% />\n",
    "\n",
    "The losses will by binary cross entropy loss with logits, which we can get with [BCEWithLogitsLoss](https://pytorch.org/docs/stable/nn.html#bcewithlogitsloss). This combines a `sigmoid` activation function **and** and binary cross entropy loss in one function.\n",
    "\n",
    "For the real images, we want `D(real_images) = 1`. That is, we want the discriminator to classify the the real images with a label = 1, indicating that these are real. To help the discriminator generalize better, the labels are **reduced a bit from 1.0 to 0.9**. For this, we'll use the parameter `smooth`; if True, then we should smooth our labels. In PyTorch, this looks like `labels = torch.ones(size) * 0.9`\n",
    "\n",
    "The discriminator loss for the fake data is similar. We want `D(fake_images) = 0`, where the fake images are the _generator output_, `fake_images = G(z)`. \n",
    "\n",
    "### Generator Loss\n",
    "\n",
    "The generator loss will look similar only with flipped labels. The generator's goal is to get `D(fake_images) = 1`. In this case, the labels are **flipped** to represent that the generator is trying to fool the discriminator into thinking that the images it generates (fakes) are real!"
   ]
  },
  {
   "cell_type": "code",
   "execution_count": 11,
   "metadata": {},
   "outputs": [
    {
     "data": {
      "text/plain": [
       "0.0"
      ]
     },
     "execution_count": 11,
     "metadata": {},
     "output_type": "execute_result"
    }
   ],
   "source": [
    "0.9*False"
   ]
  },
  {
   "cell_type": "code",
   "execution_count": 14,
   "metadata": {},
   "outputs": [],
   "source": [
    "# Calculate losses\n",
    "def real_loss(D_out, smooth=False):\n",
    "    # compare logits to real labels\n",
    "    # smooth labels if smooth=True\n",
    "    batch_size = D_out.size(0)\n",
    "    if smooth:\n",
    "        labels = torch.ones(batch_size) * 0.9\n",
    "    else:\n",
    "        labels = torch.ones(batch_size)\n",
    "    criterion = nn.BCEWithLogitsLoss()\n",
    "    loss = criterion(D_out.squeeze(), labels)\n",
    "    return loss\n",
    "\n",
    "def fake_loss(D_out):\n",
    "    batch_size = D_out.size(0)\n",
    "    # compare logits to fake labels\n",
    "    labels = torch.zeros(batch_size)\n",
    "\n",
    "    criterion = nn.BCEWithLogitsLoss()\n",
    "    loss = criterion(D_out.squeeze(), labels)\n",
    "\n",
    "    return loss"
   ]
  },
  {
   "cell_type": "markdown",
   "metadata": {},
   "source": [
    "## Optimizers\n",
    "\n",
    "We want to update the generator and discriminator variables separately. So, we'll define two separate Adam optimizers."
   ]
  },
  {
   "cell_type": "code",
   "execution_count": 15,
   "metadata": {
    "scrolled": true
   },
   "outputs": [],
   "source": [
    "import torch.optim as optim\n",
    "\n",
    "# learning rate for optimizers\n",
    "lr = 0.002\n",
    "\n",
    "# Create optimizers for the discriminator and generator\n",
    "d_optimizer = optim.Adam(D.parameters(),lr=lr)\n",
    "g_optimizer = optim.Adam(G.parameters(),lr=lr)"
   ]
  },
  {
   "cell_type": "markdown",
   "metadata": {},
   "source": [
    "---\n",
    "## Training\n",
    "\n",
    "Training will involve alternating between training the discriminator and the generator. We'll use our functions `real_loss` and `fake_loss` to help us calculate the discriminator losses in all of the following cases.\n",
    "\n",
    "### Discriminator training\n",
    "1. Compute the discriminator loss on real, training images        \n",
    "2. Generate fake images\n",
    "3. Compute the discriminator loss on fake, generated images     \n",
    "4. Add up real and fake loss\n",
    "5. Perform backpropagation + an optimization step to update the discriminator's weights\n",
    "\n",
    "### Generator training\n",
    "1. Generate fake images\n",
    "2. Compute the discriminator loss on fake images, using **flipped** labels!\n",
    "3. Perform backpropagation + an optimization step to update the generator's weights\n",
    "\n",
    "#### Saving Samples\n",
    "\n",
    "As we train, we'll also print out some loss statistics and save some generated \"fake\" samples."
   ]
  },
  {
   "cell_type": "code",
   "execution_count": null,
   "metadata": {
    "scrolled": true
   },
   "outputs": [
    {
     "name": "stdout",
     "output_type": "stream",
     "text": [
      "Epoch [    1/   40] | d_loss: 1.4148 | g_loss: 0.6801\n",
      "Epoch [    1/   40] | d_loss: 0.5246 | g_loss: 6.2168\n",
      "Epoch [    1/   40] | d_loss: 0.6016 | g_loss: 6.3663\n",
      "Epoch [    2/   40] | d_loss: 1.8187 | g_loss: 1.7614\n",
      "Epoch [    2/   40] | d_loss: 0.9978 | g_loss: 2.0221\n",
      "Epoch [    2/   40] | d_loss: 1.0294 | g_loss: 8.5797\n",
      "Epoch [    3/   40] | d_loss: 0.9923 | g_loss: 2.7123\n",
      "Epoch [    3/   40] | d_loss: 0.8398 | g_loss: 5.7876\n",
      "Epoch [    3/   40] | d_loss: 0.9152 | g_loss: 4.8176\n",
      "Epoch [    4/   40] | d_loss: 1.5107 | g_loss: 3.4062\n",
      "Epoch [    4/   40] | d_loss: 1.1697 | g_loss: 5.0517\n",
      "Epoch [    4/   40] | d_loss: 0.9110 | g_loss: 3.6440\n",
      "Epoch [    5/   40] | d_loss: 1.1986 | g_loss: 2.9708\n",
      "Epoch [    5/   40] | d_loss: 0.7475 | g_loss: 3.1824\n",
      "Epoch [    5/   40] | d_loss: 0.6351 | g_loss: 4.1441\n",
      "Epoch [    6/   40] | d_loss: 1.6737 | g_loss: 5.2256\n",
      "Epoch [    6/   40] | d_loss: 1.1563 | g_loss: 3.0472\n",
      "Epoch [    6/   40] | d_loss: 0.8832 | g_loss: 3.1557\n",
      "Epoch [    7/   40] | d_loss: 1.3520 | g_loss: 2.2899\n",
      "Epoch [    7/   40] | d_loss: 1.1142 | g_loss: 2.4586\n",
      "Epoch [    7/   40] | d_loss: 1.5831 | g_loss: 2.8347\n",
      "Epoch [    8/   40] | d_loss: 1.7476 | g_loss: 2.0280\n",
      "Epoch [    8/   40] | d_loss: 0.7818 | g_loss: 3.7312\n",
      "Epoch [    8/   40] | d_loss: 1.2004 | g_loss: 3.6682\n",
      "Epoch [    9/   40] | d_loss: 1.4971 | g_loss: 4.6376\n",
      "Epoch [    9/   40] | d_loss: 1.2407 | g_loss: 2.6152\n",
      "Epoch [    9/   40] | d_loss: 1.0776 | g_loss: 2.0833\n",
      "Epoch [   10/   40] | d_loss: 2.2972 | g_loss: 2.7754\n",
      "Epoch [   10/   40] | d_loss: 1.3444 | g_loss: 1.8718\n",
      "Epoch [   10/   40] | d_loss: 1.1623 | g_loss: 4.2840\n",
      "Epoch [   11/   40] | d_loss: 1.0605 | g_loss: 4.6148\n",
      "Epoch [   11/   40] | d_loss: 0.9724 | g_loss: 2.4405\n",
      "Epoch [   11/   40] | d_loss: 1.0949 | g_loss: 2.9617\n",
      "Epoch [   12/   40] | d_loss: 2.2205 | g_loss: 1.1873\n",
      "Epoch [   12/   40] | d_loss: 1.0545 | g_loss: 3.4101\n",
      "Epoch [   12/   40] | d_loss: 0.9946 | g_loss: 2.7235\n",
      "Epoch [   13/   40] | d_loss: 1.7455 | g_loss: 2.7342\n",
      "Epoch [   13/   40] | d_loss: 1.0472 | g_loss: 1.8319\n",
      "Epoch [   13/   40] | d_loss: 0.9862 | g_loss: 2.9824\n",
      "Epoch [   14/   40] | d_loss: 1.3102 | g_loss: 3.2562\n",
      "Epoch [   14/   40] | d_loss: 0.9537 | g_loss: 2.4408\n",
      "Epoch [   14/   40] | d_loss: 1.1452 | g_loss: 3.4497\n",
      "Epoch [   15/   40] | d_loss: 1.5050 | g_loss: 2.2789\n",
      "Epoch [   15/   40] | d_loss: 0.9791 | g_loss: 2.8040\n",
      "Epoch [   15/   40] | d_loss: 1.1891 | g_loss: 3.2492\n",
      "Epoch [   16/   40] | d_loss: 1.5742 | g_loss: 1.9430\n",
      "Epoch [   16/   40] | d_loss: 1.0551 | g_loss: 3.1935\n",
      "Epoch [   16/   40] | d_loss: 1.4061 | g_loss: 1.3726\n",
      "Epoch [   17/   40] | d_loss: 1.1098 | g_loss: 2.7683\n",
      "Epoch [   17/   40] | d_loss: 0.6745 | g_loss: 3.6578\n",
      "Epoch [   17/   40] | d_loss: 1.7175 | g_loss: 1.2214\n",
      "Epoch [   18/   40] | d_loss: 1.4889 | g_loss: 2.0521\n",
      "Epoch [   18/   40] | d_loss: 1.0154 | g_loss: 2.8569\n",
      "Epoch [   18/   40] | d_loss: 1.4704 | g_loss: 2.9497\n",
      "Epoch [   19/   40] | d_loss: 1.9826 | g_loss: 1.6519\n",
      "Epoch [   19/   40] | d_loss: 1.2997 | g_loss: 2.1611\n",
      "Epoch [   19/   40] | d_loss: 1.0050 | g_loss: 2.0912\n",
      "Epoch [   20/   40] | d_loss: 1.0477 | g_loss: 2.2960\n",
      "Epoch [   20/   40] | d_loss: 1.2212 | g_loss: 3.5066\n",
      "Epoch [   20/   40] | d_loss: 1.3910 | g_loss: 2.5272\n",
      "Epoch [   21/   40] | d_loss: 1.5734 | g_loss: 1.7253\n",
      "Epoch [   21/   40] | d_loss: 0.9154 | g_loss: 3.3319\n",
      "Epoch [   21/   40] | d_loss: 1.2984 | g_loss: 2.3290\n",
      "Epoch [   22/   40] | d_loss: 1.2363 | g_loss: 2.1887\n",
      "Epoch [   22/   40] | d_loss: 1.4336 | g_loss: 2.7479\n",
      "Epoch [   22/   40] | d_loss: 0.9685 | g_loss: 3.4549\n",
      "Epoch [   23/   40] | d_loss: 1.4388 | g_loss: 2.3440\n",
      "Epoch [   23/   40] | d_loss: 1.0939 | g_loss: 2.0298\n",
      "Epoch [   23/   40] | d_loss: 1.3460 | g_loss: 1.9345\n",
      "Epoch [   24/   40] | d_loss: 1.9428 | g_loss: 2.0951\n",
      "Epoch [   24/   40] | d_loss: 1.2137 | g_loss: 2.7437\n",
      "Epoch [   24/   40] | d_loss: 1.2275 | g_loss: 2.1890\n",
      "Epoch [   25/   40] | d_loss: 1.7659 | g_loss: 1.5423\n",
      "Epoch [   25/   40] | d_loss: 1.3107 | g_loss: 1.7707\n",
      "Epoch [   25/   40] | d_loss: 1.2445 | g_loss: 1.7705\n",
      "Epoch [   26/   40] | d_loss: 1.1303 | g_loss: 2.6343\n",
      "Epoch [   26/   40] | d_loss: 1.5130 | g_loss: 3.0161\n",
      "Epoch [   26/   40] | d_loss: 1.0069 | g_loss: 2.7900\n",
      "Epoch [   27/   40] | d_loss: 1.3676 | g_loss: 2.3830\n",
      "Epoch [   27/   40] | d_loss: 0.9712 | g_loss: 2.4862\n",
      "Epoch [   27/   40] | d_loss: 1.5673 | g_loss: 1.1777\n",
      "Epoch [   28/   40] | d_loss: 1.2196 | g_loss: 1.9951\n",
      "Epoch [   28/   40] | d_loss: 1.1798 | g_loss: 3.0392\n",
      "Epoch [   28/   40] | d_loss: 1.1628 | g_loss: 1.7485\n",
      "Epoch [   29/   40] | d_loss: 1.5579 | g_loss: 1.0567\n",
      "Epoch [   29/   40] | d_loss: 1.1007 | g_loss: 2.1772\n",
      "Epoch [   29/   40] | d_loss: 1.4541 | g_loss: 1.2962\n",
      "Epoch [   30/   40] | d_loss: 1.4862 | g_loss: 2.3336\n",
      "Epoch [   30/   40] | d_loss: 1.2082 | g_loss: 2.2330\n",
      "Epoch [   30/   40] | d_loss: 1.4149 | g_loss: 1.2930\n",
      "Epoch [   31/   40] | d_loss: 1.4497 | g_loss: 2.8044\n",
      "Epoch [   31/   40] | d_loss: 1.1373 | g_loss: 2.1766\n",
      "Epoch [   31/   40] | d_loss: 1.8729 | g_loss: 2.5706\n",
      "Epoch [   32/   40] | d_loss: 1.8033 | g_loss: 3.7393\n",
      "Epoch [   32/   40] | d_loss: 1.0062 | g_loss: 3.3879\n",
      "Epoch [   32/   40] | d_loss: 1.3289 | g_loss: 1.5276\n",
      "Epoch [   33/   40] | d_loss: 1.5544 | g_loss: 2.8624\n",
      "Epoch [   33/   40] | d_loss: 1.4606 | g_loss: 1.5200\n",
      "Epoch [   33/   40] | d_loss: 1.5263 | g_loss: 1.5414\n",
      "Epoch [   34/   40] | d_loss: 1.3030 | g_loss: 3.2838\n",
      "Epoch [   34/   40] | d_loss: 1.1968 | g_loss: 2.1070\n",
      "Epoch [   34/   40] | d_loss: 1.1942 | g_loss: 2.2395\n",
      "Epoch [   35/   40] | d_loss: 1.7377 | g_loss: 2.9268\n",
      "Epoch [   35/   40] | d_loss: 1.1228 | g_loss: 2.3609\n",
      "Epoch [   35/   40] | d_loss: 1.6412 | g_loss: 1.3222\n",
      "Epoch [   36/   40] | d_loss: 1.5196 | g_loss: 2.1318\n"
     ]
    }
   ],
   "source": [
    "import pickle as pkl\n",
    "\n",
    "# training hyperparams\n",
    "num_epochs = 40\n",
    "\n",
    "# keep track of loss and generated, \"fake\" samples\n",
    "samples = []\n",
    "losses = []\n",
    "\n",
    "print_every = 400\n",
    "\n",
    "# Get some fixed data for sampling. These are images that are held\n",
    "# constant throughout training, and allow us to inspect the model's performance\n",
    "sample_size=16\n",
    "fixed_z = np.random.uniform(-1, 1, size=(sample_size, z_size))\n",
    "fixed_z = torch.from_numpy(fixed_z).float()\n",
    "\n",
    "# train the network\n",
    "D.train()\n",
    "G.train()\n",
    "for epoch in range(num_epochs):\n",
    "    \n",
    "    for batch_i, (real_images, _) in enumerate(train_loader):\n",
    "                \n",
    "        batch_size = real_images.size(0)\n",
    "        \n",
    "        ## Important rescaling step ## \n",
    "        real_images = real_images*2 - 1  # rescale input images from [0,1) to [-1, 1)\n",
    "        \n",
    "        # ============================================\n",
    "        #            TRAIN THE DISCRIMINATOR\n",
    "        # ============================================\n",
    "        D.train()\n",
    "                \n",
    "        d_optimizer.zero_grad()\n",
    "        # 1. Train with real images\n",
    "\n",
    "        # Compute the discriminator losses on real images\n",
    "        # use smoothed labels\n",
    "        D_real = D(real_images)\n",
    "        real_l = real_loss(D_real,smooth=True)\n",
    "        # 2. Train with fake images\n",
    "        \n",
    "        # Generate fake images\n",
    "        z = np.random.uniform(-1, 1, size=(batch_size, z_size))\n",
    "        z = torch.from_numpy(z).float()\n",
    "        fake_images = G(z)\n",
    "        \n",
    "        # Compute the discriminator losses on fake images \n",
    "        D_fake = D(fake_images)\n",
    "        fake_l = fake_loss(D_fake)        \n",
    "        \n",
    "        # add up real and fake losses and perform backprop\n",
    "        d_loss = real_l+fake_l\n",
    "        d_loss.backward()\n",
    "        \n",
    "        d_optimizer.step()\n",
    "        \n",
    "        \n",
    "        # =========================================\n",
    "        #            TRAIN THE GENERATOR\n",
    "        # =========================================\n",
    "        g_optimizer.zero_grad()\n",
    "        D.eval()\n",
    "        \n",
    "        # 1. Train with fake images and flipped labels\n",
    "        \n",
    "        # Generate fake images\n",
    "        z = np.random.uniform(-1,1, size=(batch_size, z_size))\n",
    "        z = torch.from_numpy(z).float()\n",
    "        \n",
    "        fake_images = G(z)\n",
    "        \n",
    "        # Compute the discriminator losses on fake images \n",
    "        # using flipped labels!\n",
    "        \n",
    "        # perform backprop\n",
    "        D_fake = D(fake_images)\n",
    "        g_loss = real_loss(D_fake)\n",
    "        g_loss.backward()\n",
    "        \n",
    "        g_optimizer.step()\n",
    "\n",
    "        # Print some loss stats\n",
    "        if batch_i % print_every == 0:\n",
    "            # print discriminator and generator loss\n",
    "            print('Epoch [{:5d}/{:5d}] | d_loss: {:6.4f} | g_loss: {:6.4f}'.format(\n",
    "                    epoch+1, num_epochs, d_loss.item(), g_loss.item()))\n",
    "\n",
    "    \n",
    "    ## AFTER EACH EPOCH##\n",
    "    # append discriminator loss and generator loss\n",
    "    losses.append((d_loss.item(), g_loss.item()))\n",
    "    \n",
    "    # generate and save sample, fake images\n",
    "    G.eval() # eval mode for generating samples\n",
    "    samples_z = G(fixed_z)\n",
    "    samples.append(samples_z)\n",
    "    G.train() # back to train mode\n",
    "\n",
    "\n",
    "# Save training generator samples\n",
    "with open('train_samples.pkl', 'wb') as f:\n",
    "    pkl.dump(samples, f)"
   ]
  },
  {
   "cell_type": "markdown",
   "metadata": {},
   "source": [
    "## Training loss\n",
    "\n",
    "Here we'll plot the training losses for the generator and discriminator, recorded after each epoch."
   ]
  },
  {
   "cell_type": "code",
   "execution_count": null,
   "metadata": {},
   "outputs": [],
   "source": [
    "fig, ax = plt.subplots()\n",
    "losses = np.array(losses)\n",
    "plt.plot(losses.T[0], label='Discriminator')\n",
    "plt.plot(losses.T[1], label='Generator')\n",
    "plt.title(\"Training Losses\")\n",
    "plt.legend()"
   ]
  },
  {
   "cell_type": "markdown",
   "metadata": {},
   "source": [
    "## Generator samples from training\n",
    "\n",
    "Here we can view samples of images from the generator. First we'll look at the images we saved during training."
   ]
  },
  {
   "cell_type": "code",
   "execution_count": null,
   "metadata": {},
   "outputs": [],
   "source": [
    "# helper function for viewing a list of passed in sample images\n",
    "def view_samples(epoch, samples):\n",
    "    fig, axes = plt.subplots(figsize=(7,7), nrows=4, ncols=4, sharey=True, sharex=True)\n",
    "    for ax, img in zip(axes.flatten(), samples[epoch]):\n",
    "        img = img.detach()\n",
    "        ax.xaxis.set_visible(False)\n",
    "        ax.yaxis.set_visible(False)\n",
    "        im = ax.imshow(img.reshape((28,28)), cmap='Greys_r')"
   ]
  },
  {
   "cell_type": "code",
   "execution_count": null,
   "metadata": {},
   "outputs": [],
   "source": [
    "# Load samples from generator, taken while training\n",
    "with open('train_samples.pkl', 'rb') as f:\n",
    "    samples = pkl.load(f)"
   ]
  },
  {
   "cell_type": "markdown",
   "metadata": {},
   "source": [
    "These are samples from the final training epoch. You can see the generator is able to reproduce numbers like 1, 7, 3, 2. Since this is just a sample, it isn't representative of the full range of images this generator can make."
   ]
  },
  {
   "cell_type": "code",
   "execution_count": null,
   "metadata": {},
   "outputs": [],
   "source": [
    "# -1 indicates final epoch's samples (the last in the list)\n",
    "view_samples(-1, samples)"
   ]
  },
  {
   "cell_type": "markdown",
   "metadata": {},
   "source": [
    "Below I'm showing the generated images as the network was training, every 10 epochs."
   ]
  },
  {
   "cell_type": "code",
   "execution_count": null,
   "metadata": {},
   "outputs": [],
   "source": [
    "rows = 10 # split epochs into 10, so 100/10 = every 10 epochs\n",
    "cols = 6\n",
    "fig, axes = plt.subplots(figsize=(7,12), nrows=rows, ncols=cols, sharex=True, sharey=True)\n",
    "\n",
    "for sample, ax_row in zip(samples[::int(len(samples)/rows)], axes):\n",
    "    for img, ax in zip(sample[::int(len(sample)/cols)], ax_row):\n",
    "        img = img.detach()\n",
    "        ax.imshow(img.reshape((28,28)), cmap='Greys_r')\n",
    "        ax.xaxis.set_visible(False)\n",
    "        ax.yaxis.set_visible(False)"
   ]
  },
  {
   "cell_type": "markdown",
   "metadata": {},
   "source": [
    "It starts out as all noise. Then it learns to make only the center white and the rest black. You can start to see some number like structures appear out of the noise like 1s and 9s."
   ]
  },
  {
   "cell_type": "markdown",
   "metadata": {},
   "source": [
    "## Sampling from the generator\n",
    "\n",
    "We can also get completely new images from the generator by using the checkpoint we saved after training. **We just need to pass in a new latent vector $z$ and we'll get new samples**!"
   ]
  },
  {
   "cell_type": "code",
   "execution_count": null,
   "metadata": {},
   "outputs": [],
   "source": [
    "# randomly generated, new latent vectors\n",
    "sample_size=16\n",
    "rand_z = np.random.uniform(-1, 1, size=(sample_size, z_size))\n",
    "rand_z = torch.from_numpy(rand_z).float()\n",
    "\n",
    "G.eval() # eval mode\n",
    "# generated samples\n",
    "rand_images = G(rand_z)\n",
    "\n",
    "# 0 indicates the first set of samples in the passed in list\n",
    "# and we only have one batch of samples, here\n",
    "view_samples(0, [rand_images])"
   ]
  }
 ],
 "metadata": {
  "kernelspec": {
   "display_name": "Python 3",
   "language": "python",
   "name": "python3"
  },
  "language_info": {
   "codemirror_mode": {
    "name": "ipython",
    "version": 3
   },
   "file_extension": ".py",
   "mimetype": "text/x-python",
   "name": "python",
   "nbconvert_exporter": "python",
   "pygments_lexer": "ipython3",
   "version": "3.7.7"
  }
 },
 "nbformat": 4,
 "nbformat_minor": 2
}
